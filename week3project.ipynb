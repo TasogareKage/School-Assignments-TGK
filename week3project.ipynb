{
 "cells": [
  {
   "cell_type": "markdown",
   "metadata": {},
   "source": [
    "<center>\n",
    "    <img src=\"https://cf-courses-data.s3.us.cloud-object-storage.appdomain.cloud/IBMDeveloperSkillsNetwork-DS0105EN-SkillsNetwork/labs/Module2/images/SN_web_lightmode.png\" width=\"300\" alt=\"cognitiveclass.ai logo\">\n",
    "</center>\n"
   ]
  },
  {
   "cell_type": "markdown",
   "metadata": {},
   "source": [
    "#### Add your code below following the instructions given in the course\n"
   ]
  },
  {
   "cell_type": "markdown",
   "metadata": {
    "tags": []
   },
   "source": [
    "# My Jupyter Notebook on IBM Watson Studio"
   ]
  },
  {
   "cell_type": "markdown",
   "metadata": {},
   "source": [
    "__Drake__ __William__ __DeLespine__\n",
    "Level 2 AI Factory Support"
   ]
  },
  {
   "cell_type": "markdown",
   "metadata": {},
   "source": [
    "*I am interested in data science because it is a good starting place for me to get an understanding for the invention I want to build as well as it will help with my career*"
   ]
  },
  {
   "cell_type": "markdown",
   "metadata": {},
   "source": [
    "### The code below is going to just be a simple output code for displaying my printed Gamer tag name"
   ]
  },
  {
   "cell_type": "code",
   "execution_count": 16,
   "metadata": {},
   "outputs": [
    {
     "name": "stdout",
     "output_type": "stream",
     "text": [
      "TasogareKage\n"
     ]
    }
   ],
   "source": [
    "print( \"TasogareKage\" )"
   ]
  },
  {
   "attachments": {},
   "cell_type": "markdown",
   "metadata": {
    "jp-MarkdownHeadingCollapsed": true,
    "tags": []
   },
   "source": [
    "# Reasons I am not a fan of this assignment\n",
    "    1. I needed to sign up for an IBM account\n",
    "    2. It required my credit card\n",
    "    3. It returned an Error and refused to accept my card so I had to use the skill labs tool to do the final submission\n",
    "    \n",
    "   [Error Image](https://user-images.githubusercontent.com/75136509/215819791-14df078c-c5fc-489c-9010-31924efc0b57.png)\n",
    "   \n",
    "So hopefully I don't get: \n",
    "+ marks off my assignment for an IBM issue\n",
    "+ help from IBM getting this resolved\n",
    "\n",
    "    "
   ]
  },
  {
   "cell_type": "markdown",
   "metadata": {},
   "source": []
  }
 ],
 "metadata": {
  "kernelspec": {
   "display_name": "Python 3",
   "language": "python",
   "name": "python3"
  },
  "language_info": {
   "codemirror_mode": {
    "name": "ipython",
    "version": 3
   },
   "file_extension": ".py",
   "mimetype": "text/x-python",
   "name": "python",
   "nbconvert_exporter": "python",
   "pygments_lexer": "ipython3",
   "version": "3.11.1 (tags/v3.11.1:a7a450f, Dec  6 2022, 19:58:39) [MSC v.1934 64 bit (AMD64)]"
  },
  "vscode": {
   "interpreter": {
    "hash": "b9533c717f0484dc7a76fa937c9c1c269ef5f928827389fcb8fdef088bf82b9f"
   }
  }
 },
 "nbformat": 4,
 "nbformat_minor": 4
}
